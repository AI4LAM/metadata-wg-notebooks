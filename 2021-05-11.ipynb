{
 "cells": [
  {
   "cell_type": "markdown",
   "metadata": {},
   "source": [
    "# AI4LAM Metadata Working Group\n",
    "## 11 May 2021"
   ]
  },
  {
   "cell_type": "code",
   "execution_count": 1,
   "metadata": {},
   "outputs": [],
   "source": [
    "%reload_ext autoreload\n",
    "%autoreload 2\n",
    "%matplotlib inline\n",
    "\n",
    "import pymarc\n",
    "from pymarcspec import MarcSearchParser\n",
    "import spacy\n",
    "\n",
    "marc_parser = MarcSearchParser()\n",
    "with open(\"data/yale-dvd-records.mrc\", \"rb\") as fo:\n",
    "    marc_reader = pymarc.MARCReader(fo.read())\n",
    "marc_records = [r for r in marc_reader]"
   ]
  },
  {
   "cell_type": "code",
   "execution_count": null,
   "metadata": {},
   "outputs": [],
   "source": [
    "! python -m spacy download en_core_web_sm"
   ]
  },
  {
   "cell_type": "code",
   "execution_count": 2,
   "metadata": {},
   "outputs": [],
   "source": [
    "nlp = spacy.load(\"en_core_web_sm\")"
   ]
  },
  {
   "cell_type": "code",
   "execution_count": 3,
   "metadata": {},
   "outputs": [
    {
     "data": {
      "text/plain": [
       "749"
      ]
     },
     "execution_count": 3,
     "metadata": {},
     "output_type": "execute_result"
    }
   ],
   "source": [
    "len(marc_records)"
   ]
  },
  {
   "cell_type": "code",
   "execution_count": 4,
   "metadata": {},
   "outputs": [],
   "source": [
    "spec511 = marc_parser.parse('511$a')\n",
    "spec7xx = marc_parser.parse('7..$a$d')"
   ]
  },
  {
   "cell_type": "code",
   "execution_count": 5,
   "metadata": {},
   "outputs": [
    {
     "name": "stdout",
     "output_type": "stream",
     "text": [
      "[['Fats Bookholane, Sello Motloung, Connie Chiume, Nomsa Nene, Clementine Mosimane.']]\n",
      "[['Harraway, David.'], ['Rauch, Nicola.'], ['Wa Luruli, Ntshavheni.'], ['Green, Richard.'], ['Cheze, Michael.'], ['Mamlambo']]\n"
     ]
    }
   ],
   "source": [
    "print(spec511.search(marc_records[45]))\n",
    "print(spec7xx.search(marc_records[45]))"
   ]
  },
  {
   "cell_type": "code",
   "execution_count": 6,
   "metadata": {},
   "outputs": [
    {
     "name": "stdout",
     "output_type": "stream",
     "text": [
      "=LDR  02369cgm a2200373 a 4500\n",
      "=001  7717981\n",
      "=005  20110303202209.0\n",
      "=007  vd\\cgaiz-\n",
      "=008  061025p20011998sa\\122\\\\\\\\\\\\\\\\\\\\\\\\vleng\\d\n",
      "=035  \\\\$a(OCoLC)ocn682710482\n",
      "=035  \\\\$a7717981\n",
      "=040  \\\\$aOI@$cOI@$dOCLCQ$dCtY\n",
      "=028  42$aADVD01 0004$bAfrican DVD\n",
      "=043  \\\\$af-sa---\n",
      "=050  \\4$aPN1997$b.C464 1998\n",
      "=079  \\\\$aocm55988746\n",
      "=245  00$aChikin biznis$h[videorecording] :$b-- the whole story /$cdirector, Ntshaveni wa Luruli.\n",
      "=246  3\\$aChicken business\n",
      "=260  \\\\$aParklands, South Africa :$bDigital Content Co. ;$aJohannesburg :$bDistributed by African DVD in assoc. with Film Resource Unit,$cc2001, [c1998]\n",
      "=300  \\\\$a1 videodisc (122 min.) :$bsd., col. ;$c4 3/4 in.\n",
      "=500  \\\\$aTitle from container.\n",
      "=500  \\\\$aIncludes a bonus short film: Mamlambo.\n",
      "=500  \\\\$aFrom container: producer, Nicola Rauch ; author, David Harraway.\n",
      "=511  1\\$aFats Bookholane, Sello Motloung, Connie Chiume, Nomsa Nene, Clementine Mosimane.\n",
      "=508  \\\\$aProducers, Richard Green, Micheal Cheze ; writer, Mtutuzeli Matshoba ; editor, Micki Stroucken; director of photography, Rod Stewart ; original music, Shaluzamax Mntambo ; executive producer, Leon Rautenbach ; production designer, Sarah Roberts.\n",
      "=520  \\\\$aChikin Biznis follows the fortunes and blunders of the streetwise Bra Sipho, who after \"twenty five years of sophisticated slavery\" for a Stock Exchange listed company, retires to set up shop in the lucrative trade of chicken business, hoping that one day he will return to the Stock Exchange as the king of his own business empire: a telling metaphor for the aspirations of many other South Africans in an increasingly competitive economic environment. The bonus film Mamlambo is a touching tale of a street child and his friendship with a prostitute in Hillbrow, Johannesburg.\n",
      "=538  \\\\$aDVD PAL.\n",
      "=651  \\0$aSouth Africa$vDrama.$0http://id.loc.gov/authorities/subjects/sh2008116997\n",
      "=700  1\\$aHarraway, David.\n",
      "=700  1\\$aRauch, Nicola.$0http://id.loc.gov/authorities/names/no2008050067\n",
      "=700  1\\$aWa Luruli, Ntshavheni.$0http://id.loc.gov/authorities/names/no2001082527\n",
      "=700  1\\$aGreen, Richard.$0http://id.loc.gov/authorities/names/n85059112\n",
      "=700  1\\$aCheze, Michael.$0http://id.loc.gov/authorities/names/no2007025026\n",
      "=787  0\\$aMamlambo\n",
      "\n"
     ]
    }
   ],
   "source": [
    "print(marc_records[45])"
   ]
  },
  {
   "cell_type": "code",
   "execution_count": null,
   "metadata": {},
   "outputs": [],
   "source": []
  }
 ],
 "metadata": {
  "kernelspec": {
   "display_name": "Python 3",
   "language": "python",
   "name": "python3"
  },
  "language_info": {
   "codemirror_mode": {
    "name": "ipython",
    "version": 3
   },
   "file_extension": ".py",
   "mimetype": "text/x-python",
   "name": "python",
   "nbconvert_exporter": "python",
   "pygments_lexer": "ipython3",
   "version": "3.9.1"
  }
 },
 "nbformat": 4,
 "nbformat_minor": 4
}
