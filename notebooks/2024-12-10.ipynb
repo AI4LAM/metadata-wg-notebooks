{
 "cells": [
  {
   "cell_type": "markdown",
   "id": "c6890bb6-5062-4fc2-bb81-e3571c633ec6",
   "metadata": {},
   "source": [
    "# Hackathon using Linked Data with quick statements in wikidata\n",
    "\n",
    "- Wikidata [Crade](https://www.wikidata.org/wiki/Wikidata:Cradle#article)\n",
    "- [QuickStatements UI](https://quickstatements.toolforge.org/)\n",
    "- QuickStatements [API](https://www.wikidata.org/wiki/Help:QuickStatements#Using_the_API_to_start_batches)"
   ]
  },
  {
   "cell_type": "code",
   "execution_count": null,
   "id": "6e8037a5-542c-4a11-9adb-e4b416e30f2d",
   "metadata": {},
   "outputs": [],
   "source": [
    "import os\n",
    "\n",
    "import httpx\n",
    "import openai\n",
    "import pandas as pd"
   ]
  },
  {
   "cell_type": "code",
   "execution_count": null,
   "id": "ac60f124-7ff5-4716-a7f3-5f06d4e32173",
   "metadata": {},
   "outputs": [],
   "source": [
    "client = openai.OpenAI(\n",
    "    api_key=os.environ.get(\"OPENAI_API_KEY\")\n",
    ")"
   ]
  },
  {
   "cell_type": "code",
   "execution_count": null,
   "id": "2c9ac12c-373e-4675-ad78-918c8a4b6723",
   "metadata": {},
   "outputs": [],
   "source": [
    "citations = pd.read_csv(\"../data/citations.csv\")"
   ]
  },
  {
   "cell_type": "code",
   "execution_count": null,
   "id": "c5e6ad5e-5b88-4a69-98fc-1e10bdd0d662",
   "metadata": {},
   "outputs": [],
   "source": [
    "citations"
   ]
  },
  {
   "cell_type": "code",
   "execution_count": null,
   "id": "59963d06-ebae-4edd-93a0-f93855def04b",
   "metadata": {},
   "outputs": [],
   "source": []
  }
 ],
 "metadata": {
  "kernelspec": {
   "display_name": "Python 3 (ipykernel)",
   "language": "python",
   "name": "python3"
  },
  "language_info": {
   "codemirror_mode": {
    "name": "ipython",
    "version": 3
   },
   "file_extension": ".py",
   "mimetype": "text/x-python",
   "name": "python",
   "nbconvert_exporter": "python",
   "pygments_lexer": "ipython3",
   "version": "3.13.1"
  }
 },
 "nbformat": 4,
 "nbformat_minor": 5
}
